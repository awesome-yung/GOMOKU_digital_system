{
 "cells": [
  {
   "cell_type": "code",
   "execution_count": 8,
   "metadata": {},
   "outputs": [
    {
     "name": "stdout",
     "output_type": "stream",
     "text": [
      "(-5,-19) ~ (5,-19)\n",
      "(-8,-18) ~ (8,-18)\n",
      "(-10,-17) ~ (10,-17)\n",
      "(-12,-16) ~ (12,-16)\n",
      "(-13,-15) ~ (13,-15)\n",
      "(-14,-14) ~ (14,-14)\n",
      "(-15,-13) ~ (15,-13)\n",
      "(-16,-12) ~ (16,-12)\n",
      "(-17,-11) ~ (17,-11)\n",
      "(-18,-10) ~ (18,-10)\n",
      "(-18,-9) ~ (18,-9)\n",
      "(-19,-8) ~ (19,-8)\n",
      "(-19,-7) ~ (19,-7)\n",
      "(-19,-6) ~ (19,-6)\n",
      "(-20,-5) ~ (20,-5)\n",
      "(-20,-4) ~ (20,-4)\n",
      "(-20,-3) ~ (20,-3)\n",
      "(-20,-2) ~ (20,-2)\n",
      "(-20,-1) ~ (20,-1)\n",
      "(-20,0) ~ (20,0)\n"
     ]
    }
   ],
   "source": [
    "arr = [5,8,10,12,13,14,15,16,17,18,\n",
    "   18,19,19,19,20,20,20,20,20,20 ]\n",
    "\n",
    "for k, i in enumerate(arr):\n",
    "    print(f'({-i},{-(len(arr)-k-1)}) ~ ({i},{-(len(arr)-k-1)})')\n"
   ]
  },
  {
   "cell_type": "code",
   "execution_count": null,
   "metadata": {},
   "outputs": [
    {
     "name": "stdout",
     "output_type": "stream",
     "text": [
      "(0, 19)\n",
      "(1, 19)\n",
      "(2, 19)\n",
      "(3, 19)\n",
      "(4, 19)\n",
      "(5, 18)\n",
      "(6, 18)\n",
      "(7, 18)\n",
      "(8, 17)\n",
      "(9, 17)\n",
      "(10, 16)\n",
      "(11, 16)\n",
      "(12, 15)\n",
      "(13, 14)\n",
      "(14, 13)\n",
      "(15, 12)\n",
      "(16, 11)\n",
      "(17, 10)\n",
      "(18, 8)\n",
      "(19, 5)\n"
     ]
    }
   ],
   "source": [
    "import numpy as np\n",
    "r = 20\n",
    "for x in range(r):\n",
    "    y = int(np.sqrt(r*r-x*x)-0.5)\n",
    "    print((i,y))"
   ]
  },
  {
   "cell_type": "code",
   "execution_count": 27,
   "metadata": {},
   "outputs": [
    {
     "name": "stdout",
     "output_type": "stream",
     "text": [
      "0x5\n",
      "0x8\n",
      "0xa\n",
      "0xc\n",
      "0xd\n",
      "0xe\n",
      "0xf\n",
      "0x10\n",
      "0x11\n",
      "0x12\n",
      "0x12\n",
      "0x13\n",
      "0x13\n",
      "0x13\n",
      "0x14\n",
      "0x14\n",
      "0x14\n",
      "0x14\n",
      "0x14\n"
     ]
    }
   ],
   "source": [
    "import numpy as np\n",
    "arr = [5,8,10,12,13,14,15,16,17,18,\n",
    "   18,19,19,19,20,20,20,20,20]\n",
    "for y in arr:\n",
    "    print(hex(y))"
   ]
  },
  {
   "cell_type": "code",
   "execution_count": null,
   "metadata": {},
   "outputs": [],
   "source": [
    "0x5\n",
    "0x8\n",
    "0xa\n",
    "0xc\n",
    "0xd\n",
    "0xe\n",
    "0xf\n",
    "0x10\n",
    "0x11\n",
    "0x12\n",
    "0x12\n",
    "0x13\n",
    "0x13\n",
    "0x13\n",
    "0x14\n",
    "0x14\n",
    "0x14\n",
    "0x14\n",
    "0x14"
   ]
  },
  {
   "cell_type": "code",
   "execution_count": null,
   "metadata": {},
   "outputs": [],
   "source": [
    "05080a0c0d0e0f10111212131313141414141414\n",
    "05 08 0a 0c 0d\n",
    "0e 0f 10 11 12 \n",
    "12 13 13 13 14 \n",
    "14 14 14 14 14\n",
    "\n",
    "14 14 14 14 14\n",
    "14 13 13 13 12\n",
    "12 11 10 0f 0e\n",
    "0d 0c 0a 08 05"
   ]
  },
  {
   "cell_type": "code",
   "execution_count": null,
   "metadata": {},
   "outputs": [],
   "source": [
    "05080a0c0d0e0f10111212131313141414141414\n",
    "141414141414131313121211100f0e0d0c0a0805"
   ]
  },
  {
   "cell_type": "code",
   "execution_count": null,
   "metadata": {},
   "outputs": [
    {
     "data": {
      "text/plain": [
       "80"
      ]
     },
     "execution_count": 28,
     "metadata": {},
     "output_type": "execute_result"
    }
   ],
   "source": [
    "# k = 0 ~ 99\n",
    "# k = 56\n",
    "# row = 56/10 = 5, col = 56%10 = 6\n",
    "\n",
    "stone_range = '05080a0c0d0e0f10111212131313141414141414141414141414131313121211100f0e0d0c0a0805'\n",
    "\n",
    "len(stone_range)"
   ]
  },
  {
   "cell_type": "code",
   "execution_count": null,
   "metadata": {},
   "outputs": [
    {
     "name": "stdout",
     "output_type": "stream",
     "text": [
      "0 56 5\n",
      "1 56 8\n",
      "2 56 10\n",
      "3 56 12\n",
      "4 56 13\n",
      "5 56 14\n",
      "6 56 15\n",
      "7 56 16\n",
      "8 56 17\n",
      "9 56 18\n",
      "10 56 18\n",
      "11 56 19\n",
      "12 56 19\n",
      "13 56 19\n",
      "14 56 20\n",
      "15 56 20\n",
      "16 56 20\n",
      "17 56 20\n",
      "18 56 20\n",
      "19 56 20\n",
      "20 56 20\n",
      "21 56 20\n",
      "22 56 20\n",
      "23 56 20\n",
      "24 56 19\n",
      "25 56 19\n",
      "26 56 19\n",
      "27 56 18\n",
      "28 56 18\n",
      "29 56 17\n",
      "30 56 16\n",
      "31 56 15\n",
      "32 56 14\n",
      "33 56 13\n",
      "34 56 12\n",
      "35 56 10\n",
      "36 56 8\n",
      "37 56 5\n"
     ]
    },
    {
     "ename": "IndexError",
     "evalue": "list index out of range",
     "output_type": "error",
     "traceback": [
      "\u001b[1;31m---------------------------------------------------------------------------\u001b[0m",
      "\u001b[1;31mIndexError\u001b[0m                                Traceback (most recent call last)",
      "Cell \u001b[1;32mIn[36], line 11\u001b[0m\n\u001b[0;32m      9\u001b[0m col \u001b[38;5;241m=\u001b[39m i \u001b[38;5;241m%\u001b[39m \u001b[38;5;241m10\u001b[39m\n\u001b[0;32m     10\u001b[0m \u001b[38;5;28;01mfor\u001b[39;00m r \u001b[38;5;129;01min\u001b[39;00m \u001b[38;5;28mrange\u001b[39m(row_max\u001b[38;5;241m*\u001b[39m\u001b[38;5;241m2\u001b[39m):\n\u001b[1;32m---> 11\u001b[0m     \u001b[38;5;28mprint\u001b[39m(r, row\u001b[38;5;241m*\u001b[39m\u001b[38;5;241m10\u001b[39m\u001b[38;5;241m+\u001b[39mcol, \u001b[43marr\u001b[49m\u001b[43m[\u001b[49m\u001b[43mr\u001b[49m\u001b[43m]\u001b[49m)\n",
      "\u001b[1;31mIndexError\u001b[0m: list index out of range"
     ]
    }
   ],
   "source": [
    "row_max = 20\n",
    "import numpy as np\n",
    "arr = [ 5,8,10,12,13,14,15,16,17,18,\n",
    "        18,19,19,19,20,20,20,20,20,20\n",
    "        20,20,20,20,20,20,19,19,19,18,\n",
    "        18,17,16,15,14,13,12,10,8,5]\n",
    "i = 56\n",
    "row = i // 10\n",
    "col = i % 10\n",
    "for r in range(row_max*2):\n",
    "    print(r, row*10+col, arr[r])"
   ]
  },
  {
   "cell_type": "code",
   "execution_count": null,
   "metadata": {},
   "outputs": [],
   "source": []
  }
 ],
 "metadata": {
  "kernelspec": {
   "display_name": "gui",
   "language": "python",
   "name": "python3"
  },
  "language_info": {
   "codemirror_mode": {
    "name": "ipython",
    "version": 3
   },
   "file_extension": ".py",
   "mimetype": "text/x-python",
   "name": "python",
   "nbconvert_exporter": "python",
   "pygments_lexer": "ipython3",
   "version": "3.11.9"
  }
 },
 "nbformat": 4,
 "nbformat_minor": 2
}
